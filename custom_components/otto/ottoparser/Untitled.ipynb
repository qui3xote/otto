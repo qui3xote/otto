{
 "cells": [
  {
   "cell_type": "code",
   "execution_count": 4,
   "id": "6df1a75b",
   "metadata": {},
   "outputs": [
    {
     "ename": "ImportError",
     "evalue": "attempted relative import with no known parent package",
     "output_type": "error",
     "traceback": [
      "\u001b[0;31m---------------------------------------------------------------------------\u001b[0m",
      "\u001b[0;31mImportError\u001b[0m                               Traceback (most recent call last)",
      "Input \u001b[0;32mIn [4]\u001b[0m, in \u001b[0;36m<module>\u001b[0;34m\u001b[0m\n\u001b[0;32m----> 1\u001b[0m \u001b[38;5;28;01mfrom\u001b[39;00m \u001b[38;5;21;01mcontrols\u001b[39;00m \u001b[38;5;28;01mimport\u001b[39;00m Auto\n",
      "File \u001b[0;32m~/Developer/otto/custom_components/otto/ottoparser/controls.py:3\u001b[0m, in \u001b[0;36m<module>\u001b[0;34m\u001b[0m\n\u001b[1;32m      1\u001b[0m \u001b[38;5;28;01mfrom\u001b[39;00m \u001b[38;5;21;01mpyparsing\u001b[39;00m \u001b[38;5;28;01mimport\u001b[39;00m (Group, Optional, MatchFirst,\n\u001b[1;32m      2\u001b[0m                        Suppress, ZeroOrMore, OneOrMore)\n\u001b[0;32m----> 3\u001b[0m \u001b[38;5;28;01mfrom\u001b[39;00m \u001b[38;5;21;01m.\u001b[39;00m\u001b[38;5;21;01mkeywords\u001b[39;00m \u001b[38;5;28;01mimport\u001b[39;00m AUTOMATION, RESTART, WHEN\n\u001b[1;32m      4\u001b[0m \u001b[38;5;28;01mfrom\u001b[39;00m \u001b[38;5;21;01m.\u001b[39;00m\u001b[38;5;21;01mbase\u001b[39;00m \u001b[38;5;28;01mimport\u001b[39;00m OttoBase\n\u001b[1;32m      5\u001b[0m \u001b[38;5;28;01mfrom\u001b[39;00m \u001b[38;5;21;01m.\u001b[39;00m\u001b[38;5;21;01mdatatypes\u001b[39;00m \u001b[38;5;28;01mimport\u001b[39;00m ident, Var\n",
      "\u001b[0;31mImportError\u001b[0m: attempted relative import with no known parent package"
     ]
    }
   ],
   "source": [
    "from controls import Auto"
   ]
  },
  {
   "cell_type": "code",
   "execution_count": 8,
   "id": "ec5ae158",
   "metadata": {},
   "outputs": [],
   "source": [
    "from pyparsing import Group"
   ]
  },
  {
   "cell_type": "code",
   "execution_count": 4,
   "id": "a0fb1e29",
   "metadata": {},
   "outputs": [
    {
     "name": "stdout",
     "output_type": "stream",
     "text": [
      "None\n"
     ]
    }
   ],
   "source": [
    "log.info(help(QuotedString))"
   ]
  },
  {
   "cell_type": "code",
   "execution_count": 6,
   "id": "846b6759",
   "metadata": {},
   "outputs": [],
   "source": [
    "x = QuotedString(quoteChar=\"'\")"
   ]
  },
  {
   "cell_type": "code",
   "execution_count": null,
   "id": "25164e87",
   "metadata": {},
   "outputs": [],
   "source": [
    "Group(x).set"
   ]
  },
  {
   "cell_type": "code",
   "execution_count": 7,
   "id": "d53b7e00",
   "metadata": {},
   "outputs": [
    {
     "ename": "AttributeError",
     "evalue": "'Group' object has no attribute 'set_name'",
     "output_type": "error",
     "traceback": [
      "Exception in <jupyter_0> line 1:",
      "    from ottoparser import *",
      "    ^",
      "AttributeError: 'Group' object has no attribute 'set_name'"
     ]
    }
   ],
   "source": [
    "from ottoparser import *"
   ]
  },
  {
   "cell_type": "code",
   "execution_count": null,
   "id": "301412cd",
   "metadata": {},
   "outputs": [],
   "source": []
  }
 ],
 "metadata": {
  "kernelspec": {
   "display_name": "hass pyscript",
   "language": "python",
   "name": "pyscript"
  },
  "language_info": {
   "codemirror_mode": "",
   "file_extension": ".py",
   "mimetype": "",
   "name": "python",
   "nbconvert_exporter": "",
   "version": "1.0"
  }
 },
 "nbformat": 4,
 "nbformat_minor": 5
}
