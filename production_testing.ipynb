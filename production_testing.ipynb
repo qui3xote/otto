{
 "cells": [
  {
   "cell_type": "code",
   "execution_count": 1,
   "id": "8540e2d7",
   "metadata": {},
   "outputs": [],
   "source": [
    "from class_test import *\n",
    "import sys\n",
    "\n",
    "sys.path.append('/config/pyscript/modules')"
   ]
  },
  {
   "cell_type": "code",
   "execution_count": 20,
   "id": "3a74258d",
   "metadata": {
    "scrolled": true
   },
   "outputs": [],
   "source": [
    "import importlib\n",
    "\n",
    "def pyimport(module):\n",
    "    x = importlib.import_module(module)\n",
    "    return x"
   ]
  },
  {
   "cell_type": "code",
   "execution_count": 21,
   "id": "44abc675",
   "metadata": {},
   "outputs": [],
   "source": [
    "x = pyimport('ottoscript.ottoscript')"
   ]
  },
  {
   "cell_type": "code",
   "execution_count": 3,
   "id": "603f3d42",
   "metadata": {},
   "outputs": [
    {
     "data": {
      "text/plain": [
       "False"
      ]
     },
     "execution_count": 3,
     "metadata": {},
     "output_type": "execute_result"
    }
   ],
   "source": [
    "float(sensor.cupola_hue_illuminance) < 1.5"
   ]
  },
  {
   "cell_type": "code",
   "execution_count": 3,
   "id": "031e7117",
   "metadata": {},
   "outputs": [
    {
     "ename": "AttributeError",
     "evalue": "'StateVal' object has no attribute 'brightness_pct'",
     "output_type": "error",
     "traceback": [
      "Exception in <jupyter_0> line 1:",
      "    light.cupola_sconces.brightness_pct",
      "    ^",
      "AttributeError: 'StateVal' object has no attribute 'brightness_pct'"
     ]
    }
   ],
   "source": [
    "light.cupola_sconces.brightness_pct"
   ]
  },
  {
   "cell_type": "code",
   "execution_count": 4,
   "id": "9aee9c67",
   "metadata": {},
   "outputs": [
    {
     "data": {
      "text/plain": [
       "{'supported_color_modes': ['brightness'], 'device_id': '33', 'zone_id': '21', 'friendly_name': 'Cupola Main Lights', 'supported_features': 33}"
      ]
     },
     "execution_count": 4,
     "metadata": {},
     "output_type": "execute_result"
    }
   ],
   "source": [
    "state.getattr('light.cupola_main_lights')"
   ]
  },
  {
   "cell_type": "code",
   "execution_count": 4,
   "id": "0fb27490",
   "metadata": {},
   "outputs": [
    {
     "data": {
      "text/plain": [
       "'5.7'"
      ]
     },
     "execution_count": 4,
     "metadata": {},
     "output_type": "execute_result"
    }
   ],
   "source": [
    "state.get('sensor.living_room_hue_illuminance')"
   ]
  },
  {
   "cell_type": "code",
   "execution_count": 1,
   "id": "49ed9183",
   "metadata": {},
   "outputs": [
    {
     "ename": "ValueError",
     "evalue": "could not convert string to float: 'on'",
     "output_type": "error",
     "traceback": [
      "Exception in <jupyter_0> line 1:",
      "    float('on')",
      "          ^",
      "ValueError: could not convert string to float: 'on'"
     ]
    }
   ],
   "source": [
    "float('on')"
   ]
  },
  {
   "cell_type": "code",
   "execution_count": 2,
   "id": "7204b255",
   "metadata": {},
   "outputs": [
    {
     "ename": "SyntaxError",
     "evalue": "invalid syntax (jupyter_0, line 1)",
     "output_type": "error",
     "traceback": [
      "Exception in <jupyter_0> line 1:",
      "    service.call('turn_on','light', entity_id=[], area_id=['living_room', 'dining_room', 'kitchen', 'hallway'], params=brightness_step=-5",
      "                                                                                                                                      ^",
      "SyntaxError: invalid syntax (jupyter_0, line 1)"
     ]
    }
   ],
   "source": [
    "service.call('turn_on','light', entity_id=[], area_id=['living_room', 'dining_room', 'kitchen', 'hallway'], params=brightness_step=-5"
   ]
  },
  {
   "cell_type": "code",
   "execution_count": 7,
   "id": "466af9dd",
   "metadata": {},
   "outputs": [],
   "source": [
    "service.call('light','turn_on',**{'brightness_step': 5.0, 'entity_id': [], 'area_id': ['living_room', 'dining_room', 'kitchen', 'hallway']})"
   ]
  },
  {
   "cell_type": "code",
   "execution_count": 1,
   "id": "142b86a0",
   "metadata": {},
   "outputs": [],
   "source": [
    "import pyparsing"
   ]
  },
  {
   "cell_type": "code",
   "execution_count": 2,
   "id": "e338b8a4",
   "metadata": {},
   "outputs": [
    {
     "ename": "AttributeError",
     "evalue": "module 'pyparsing' has no attribute 'delimited_list'",
     "output_type": "error",
     "traceback": [
      "Exception in <jupyter_0> line 1:",
      "    from pyparsing import delimited_list",
      "    ^",
      "AttributeError: module 'pyparsing' has no attribute 'delimited_list'"
     ]
    }
   ],
   "source": [
    "from pyparsing import delimited_list"
   ]
  },
  {
   "cell_type": "code",
   "execution_count": 1,
   "id": "69cd522b",
   "metadata": {},
   "outputs": [
    {
     "data": {
      "text/plain": [
       "'0.20.4'"
      ]
     },
     "execution_count": 1,
     "metadata": {},
     "output_type": "execute_result"
    }
   ],
   "source": [
    "import pkg_resources\n",
    "pkg_resources.get_distribution(\"httplib2\").version"
   ]
  },
  {
   "cell_type": "code",
   "execution_count": 7,
   "id": "280a4f47",
   "metadata": {},
   "outputs": [],
   "source": [
    "x = hass.helpers.entity_registry.async_get_registry()"
   ]
  },
  {
   "cell_type": "code",
   "execution_count": 11,
   "id": "6d092927",
   "metadata": {},
   "outputs": [
    {
     "data": {
      "text/plain": [
       "['_MutableMapping__marker', '__abstractmethods__', '__class__', '__class_getitem__', '__contains__', '__copy__', '__delattr__', '__delitem__', '__dict__', '__dir__', '__doc__', '__eq__', '__format__', '__ge__', '__getattribute__', '__getitem__', '__gt__', '__hash__', '__init__', '__init_subclass__', '__ior__', '__iter__', '__le__', '__len__', '__lt__', '__module__', '__ne__', '__new__', '__or__', '__orig_bases__', '__reduce__', '__reduce_ex__', '__repr__', '__reversed__', '__ror__', '__setattr__', '__setitem__', '__sizeof__', '__slots__', '__str__', '__subclasshook__', '__weakref__', '_abc_impl', '_entry_ids', '_index', 'clear', 'copy', 'data', 'fromkeys', 'get', 'get_entity_id', 'get_entry', 'items', 'keys', 'pop', 'popitem', 'setdefault', 'update', 'values']"
      ]
     },
     "execution_count": 11,
     "metadata": {},
     "output_type": "execute_result"
    }
   ],
   "source": [
    "dir(x.entities)"
   ]
  },
  {
   "cell_type": "code",
   "execution_count": 18,
   "id": "b8cc081c",
   "metadata": {},
   "outputs": [
    {
     "data": {
      "text/plain": [
       "['_MutableMapping__marker', '__abstractmethods__', '__class__', '__class_getitem__', '__contains__', '__copy__', '__delattr__', '__delitem__', '__dict__', '__dir__', '__doc__', '__eq__', '__format__', '__ge__', '__getattribute__', '__getitem__', '__gt__', '__hash__', '__init__', '__init_subclass__', '__ior__', '__iter__', '__le__', '__len__', '__lt__', '__module__', '__ne__', '__new__', '__or__', '__orig_bases__', '__reduce__', '__reduce_ex__', '__repr__', '__reversed__', '__ror__', '__setattr__', '__setitem__', '__sizeof__', '__slots__', '__str__', '__subclasshook__', '__weakref__', '_abc_impl', '_entry_ids', '_index', 'clear', 'copy', 'data', 'fromkeys', 'get', 'get_entity_id', 'get_entry', 'items', 'keys', 'pop', 'popitem', 'setdefault', 'update', 'values']"
      ]
     },
     "execution_count": 18,
     "metadata": {},
     "output_type": "execute_result"
    }
   ],
   "source": [
    "dir(x.entities)"
   ]
  },
  {
   "cell_type": "code",
   "execution_count": 22,
   "id": "31b46fa7",
   "metadata": {},
   "outputs": [
    {
     "data": {
      "text/plain": [
       "[None, None, None, None, None, None, None, None, None, None, None, None, None, None, None, None, None, None, None, None, None, None, None, None, None, None, None, None, None, None, None, None, None, None, None, None, None, None, None, None, None, None, None, None, None, None, None, None, None, None, None, None, None, None, None, None, None, None, None, None, None, None, None, None, None, None, None, None, None, None, None, None, None, None, None, None, None, None, None, None, None, None, None, None, None, None, None, None, None, None, None, None, None, None, None, None, None, None, None, None, None, None, None, None, None, None, None, None, None, None, None, None, None, None, None, None, None, None, None, None, None, None, None, None, None, None, None, None, None, None, None, None, None, None, None, None, None, None, None, None, None, None, None, None, None, None, None, None, None, None, None, None, None, None, None, None, None, None, None, None, None, None, None, None, None, None, None, None, None, None, None, None, None, None, None, None, None, None, None, None, None, None, None, None, None, None, None, None, None, None, None, None, None, None, None, None, None, None, None, None, None, None, None, None, None, None, None, None, None, None, None, None, None, None, None, None, None, None, None, None, None, None, None, None, None, None, None, None, None, None, None, None, None, None, None, None, None, None, None, None, None, None, None, None, None, None, None, None, None, None, None, None, None, None, None, None, None, None, None, None, None, None, None, None, None, None, None, None, None, None, None, None, None, None, None, None, None, None, None, None, None, None, None, None, None, None, None, None, None, None, None, None, None, None, None, None, None, None, None, None, None, None, None, None, None, None, None, None, None, None, None, None, None, None, None, None, None, None, None, None, None, None, None, None, None, None, None, None, None, None, None, None, None, None, None, None, None, None, None, None, None, None, None, None, None, None, None, None, None, None, None, None, None, None, None, None, None, None, None, None, None, None, None, None, None, None, None, None, None, None, None, None, None, None, None, None, None, None, None, None, None, None, None, None, None, None, None, None, None, None, None, None, None, None, None, None, None, None, None, None, None, None, None, None, None, None, None, None, None, None, None, None, None, None, None, None, None, None, None, None, None, None, None, None, None, None, None, None, None, None, None, None, None, None, None, None, None, None, None, None, None, None, None, None, None, None, None, None, None, None, None, None, None, None, None, None, None, None, None, None, None, None, None, None, None, None, None, None, None, None, None, None, None, None, None, None, None, None, None, None, None, None, None, None, None, None, None, None, None, None, None, None, None, None, None, None, None, None, None, None, None, None, None, None, None]"
      ]
     },
     "execution_count": 22,
     "metadata": {},
     "output_type": "execute_result"
    }
   ],
   "source": [
    "[x.entities.get_entity_id(key) for key in x.entities.keys()]"
   ]
  },
  {
   "cell_type": "code",
   "execution_count": 13,
   "id": "6f71330f",
   "metadata": {},
   "outputs": [
    {
     "data": {
      "text/plain": [
       "489"
      ]
     },
     "execution_count": 13,
     "metadata": {},
     "output_type": "execute_result"
    }
   ],
   "source": [
    "len([y for y in x.entities.keys()])"
   ]
  },
  {
   "cell_type": "code",
   "execution_count": 14,
   "id": "849987f6",
   "metadata": {},
   "outputs": [
    {
     "data": {
      "text/plain": [
       "['sensor.home_assistant_operating_system_version', 'sensor.home_assistant_operating_system_newest_version', 'binary_sensor.home_assistant_operating_system_update_available', 'binary_sensor.home_assistant_operating_system_running', 'binary_sensor.updater', 'person.tom', 'weather.sunset', 'weather.sunset_hourly', 'binary_sensor.rpi_power_status', 'device_tracker.mervyn', 'sensor.mervyn_activity', 'sensor.mervyn_distance', 'sensor.mervyn_floors_ascended', 'sensor.mervyn_floors_descended', 'sensor.mervyn_average_active_pace', 'sensor.mervyn_steps', 'sensor.mervyn_battery_level', 'sensor.mervyn_battery_state', 'sensor.mervyn_storage', 'sensor.mervyn_bssid', 'sensor.mervyn_ssid', 'sensor.mervyn_connection_type', 'sensor.mervyn_sim_1', 'sensor.mervyn_sim_2', 'sensor.mervyn_geocoded_location', 'binary_sensor.mervyn_focus', 'sensor.mervyn_last_update_trigger', 'binary_sensor.home_assistant_google_drive_backup_update_available', 'binary_sensor.home_assistant_google_drive_backup_running', 'sensor.home_assistant_google_drive_backup_version', 'sensor.home_assistant_google_drive_backup_newest_version', 'sensor.home_assistant_google_drive_backup_cpu_percent', 'sensor.home_assistant_google_drive_backup_memory_percent', 'binary_sensor.terminal_ssh_update_available', 'binary_sensor.terminal_ssh_running', 'sensor.terminal_ssh_version', 'sensor.terminal_ssh_newest_version', 'sensor.terminal_ssh_cpu_percent', 'sensor.terminal_ssh_memory_percent', 'binary_sensor.basement_smoke', 'binary_sensor.living_room_motion', 'binary_sensor.dining_room_motion', 'binary_sensor.living_room_glass', 'binary_sensor.basement_motion', 'binary_sensor.basement_temperature', 'binary_sensor.basement_detector', 'binary_sensor.basement_smoke_2', 'binary_sensor.basement_detector_2', 'binary_sensor.1st_floor_smoke', 'binary_sensor.1st_floor_detector', 'binary_sensor.laundry_smoke', 'binary_sensor.laundry_detector', 'binary_sensor.master_sliding_door', 'binary_sensor.master_left_window', 'binary_sensor.master_right_window', 'binary_sensor.master_bedroom_glass', 'binary_sensor.garage_entry_door', 'binary_sensor.front_entry_door', 'binary_sensor.side_entry_door', 'binary_sensor.kitchen_door', 'binary_sensor.living_room_sliding', 'binary_sensor.2nd_floor_motion', 'alarm_control_panel.burlington', 'binary_sensor.file_editor_update_available', 'sensor.file_editor_version', 'sensor.file_editor_newest_version', 'binary_sensor.file_editor_running', 'sensor.file_editor_cpu_percent', 'sensor.file_editor_memory_percent', 'sensor.roomba_1st_floor_battery_level', 'binary_sensor.roomba_1st_floor_bin_full', 'vacuum.roomba_1st_floor', 'light.main_room_lights', 'light.upstairs_lights', 'person.catherina', 'device_tracker.catherina_o_connells_iphone', 'sensor.catherina_o_connells_iphone_activity', 'sensor.catherina_o_connells_iphone_distance', 'sensor.catherina_o_connells_iphone_floors_ascended', 'sensor.catherina_o_connells_iphone_steps', 'sensor.catherina_o_connells_iphone_floors_descended', 'sensor.catherina_o_connells_iphone_average_active_pace', 'sensor.catherina_o_connells_iphone_battery_level', 'sensor.catherina_o_connells_iphone_battery_state', 'sensor.catherina_o_connells_iphone_storage', 'sensor.catherina_o_connells_iphone_ssid', 'sensor.catherina_o_connells_iphone_bssid', 'sensor.catherina_o_connells_iphone_connection_type', 'sensor.catherina_o_connells_iphone_sim_1', 'sensor.catherina_o_connells_iphone_sim_2', 'sensor.catherina_o_connells_iphone_geocoded_location', 'sensor.catherina_o_connells_iphone_last_update_trigger', 'media_player.family', 'remote.family', 'automation.when_we_come_home', 'automation.turn_on_lights_after_sunset', 'automation.start_nightly_clean', 'automation.turn_off_lights_after_cleaning', 'automation.autolock', 'automation.set_evening', 'automation.set_night', 'binary_sensor.remote_ui', 'automation.cloud_control', 'media_player.basement_xbox', 'remote.basement_xbox_remote', 'binary_sensor.qui3xote', 'binary_sensor.qui3xote_in_party', 'binary_sensor.qui3xote_in_game', 'binary_sensor.qui3xote_in_multiplayer', 'sensor.qui3xote_status', 'sensor.qui3xote_gamer_score', 'sensor.qui3xote_account_tier', 'sensor.qui3xote_gold_tenure', 'person.cloe', 'person.quentin', 'device_tracker.tom_s_macbook_of_glory', 'binary_sensor.jupyterlab_update_available', 'binary_sensor.jupyterlab_running', 'sensor.jupyterlab_version', 'sensor.jupyterlab_newest_version', 'sensor.jupyterlab_cpu_percent', 'sensor.jupyterlab_memory_percent', 'sensor.hacs', 'automation.cloud_control2', 'automation.sync_den', 'automation.synchronize_living_room', 'automation.turn_off_alarm', 'sensor.front_door_battery', 'sensor.front_door_operator', 'lock.front_door', 'sensor.balcony_right_battery', 'sensor.nursery_battery', 'sensor.window_battery', 'sensor.balcony_left_battery', 'cover.balcony_right', 'automation.wake', 'cover.window', 'cover.balcony_left', 'automation.set_flix_and_chill', 'cover.left_door', 'binary_sensor.hub_myq_gateway', 'automation.hue_motion_test', 'input_number.default_motion_timeout', 'input_boolean.vacation', 'input_boolean.guests', 'light.chandelier', 'light.pantry', 'automation.wake_up', 'switch.noise_machine_on_off', 'input_boolean.tom_working', 'automation.working', 'input_number.luminance_high', 'input_number.luminance_low', 'automation.cupola_lights_off', 'media_player.unnamed_room', 'switch.sonos_unnamed_room_touch_controls', 'switch.sonos_unnamed_room_crossfade', 'switch.sonos_unnamed_room_night_sound', 'switch.sonos_unnamed_room_speech_enhancement', 'switch.sonos_unnamed_room_status_light', 'binary_sensor.mosquitto_broker_update_available', 'binary_sensor.mosquitto_broker_running', 'sensor.mosquitto_broker_version', 'sensor.mosquitto_broker_newest_version', 'sensor.mosquitto_broker_cpu_percent', 'sensor.mosquitto_broker_memory_percent', 'cover.nursery', 'binary_sensor.catherina_o_connells_iphone_focus', 'media_player.unnamed_room_2', 'switch.sonos_unnamed_room_touch_controls_2', 'switch.sonos_unnamed_room_crossfade_2', 'switch.sonos_unnamed_room_night_sound_2', 'switch.sonos_unnamed_room_speech_enhancement_2', 'switch.sonos_unnamed_room_status_light_2', 'number.media_room_bass', 'number.media_room_treble', 'sensor.media_room_audio_input_format', 'switch.sonos_media_room_surround_enabled', 'number.dining_room_bass', 'number.dining_room_treble', 'sensor.dining_room_audio_input_format', 'switch.sonos_dining_room_surround_enabled', 'sensor.tom_s_macbook_of_glory_internal_battery_level', 'sensor.tom_s_macbook_of_glory_active_camera', 'sensor.tom_s_macbook_of_glory_active_microphone', 'sensor.tom_s_macbook_of_glory_internal_battery_state', 'sensor.tom_s_macbook_of_glory_storage', 'sensor.tom_s_macbook_of_glory_displays', 'sensor.tom_s_macbook_of_glory_ssid', 'sensor.tom_s_macbook_of_glory_bssid', 'sensor.tom_s_macbook_of_glory_connection_type', 'binary_sensor.tom_s_macbook_of_glory_active', 'sensor.tom_s_macbook_of_glory_primary_display_name', 'sensor.tom_s_macbook_of_glory_primary_display_id', 'sensor.tom_s_macbook_of_glory_frontmost_app', 'sensor.tom_s_macbook_of_glory_last_update_trigger', 'binary_sensor.tom_s_macbook_of_glory_microphone_in_use', 'binary_sensor.tom_s_macbook_of_glory_camera_in_use', 'binary_sensor.tom_s_macbook_of_glory_focus', 'sensor.tom_s_macbook_of_glory_geocoded_location', 'binary_sensor.tom_s_macbook_of_glory_audio_output_in_use', 'sensor.tom_s_macbook_of_glory_active_audio_output', 'light.front_porch_overhead_light', 'light.garage_entry_main_lights', 'light.living_room_fireplace_right', 'light.living_room_fireplace_left', 'light.upstairs_hallway_chandelier', 'light.upstairs_hallway_main_lights', 'light.kids_hallway_main_lights', 'light.master_bedroom_main_lights', 'light.master_bedroom_accent_lights', 'light.master_bedroom_hallway', 'light.master_bedroom_closet_light', 'light.kitchen_island_pendants', 'light.living_room_bookshelf_area', 'light.dining_room_main_lights', 'light.cupola_main_lights', 'light.playroom_main_lights', 'light.zen_room_accent_lights', 'light.zen_room_main_lights', 'light.cupola_sconces', 'light.deck_front_row', 'light.deck_back_row', 'light.deck_den_area', 'light.front_foyer_main_lights', 'light.living_room_spot_lights', 'light.morning_room_floor_lamps', 'light.den_main_lights_1', 'light.den_main_lights_2', 'light.kitchen_main_lights', 'light.kitchen_island_lights', 'light.kitchen_sink_light', 'light.office_accent_lights', 'light.office_main_lights', 'light.mudroom_main_lights_2', 'light.kitchen_porch_deck_lights', 'light.morning_room_front_lights', 'light.morning_room_back_lights', 'switch.dining_room_chandelier', 'switch.kitchen_pantry', 'light.basement_storage_area_main_lights', 'light.media_room_front_lights', 'light.media_room_rear_lights', 'light.basement_sitting_area_main_lights', 'switch.wine_cellar_main_lights', 'light.basement_game_area_main_lights', 'light.basement_patio_deck_lights', 'light.basement_bar_lights', 'light.basement_exercise_area_main_lights', 'light.basement_game_area_front', 'light.basement_sitting_area_front', 'light.bar_cove_lights', 'automation.master_closet_sleep_light_off', 'automation.working_lights', 'sensor.s9_battery_level', 'binary_sensor.s9_bin_full', 'vacuum.s9', 'input_select.home_mode', 'light.hallway_main_lights', 'sensor.sunset_apparent_temperature', 'sensor.sunset_cloud_ceiling', 'sensor.sunset_cloud_cover', 'sensor.sunset_dew_point', 'sensor.sunset_realfeel_temperature', 'sensor.sunset_realfeel_temperature_shade', 'sensor.sunset_precipitation', 'sensor.sunset_pressure_tendency', 'sensor.sunset_uv_index', 'sensor.sunset_wet_bulb_temperature', 'sensor.sunset_wind_chill_temperature', 'sensor.sunset_wind', 'sensor.sunset_wind_gust', 'weather.sunset_2', 'sensor.kbtv_dew_point', 'sensor.kbtv_temperature', 'sensor.kbtv_wind_chill', 'sensor.kbtv_heat_index', 'sensor.kbtv_relative_humidity', 'sensor.kbtv_wind_speed', 'sensor.kbtv_wind_gust', 'sensor.kbtv_wind_direction', 'sensor.kbtv_barometric_pressure', 'sensor.kbtv_sea_level_pressure', 'sensor.kbtv_visibility', 'weather.kbtv_daynight', 'weather.kbtv_hourly', 'input_number.dusk_light', 'input_number.evening_light', 'light.basement_stairs_main_lights', 'device_tracker.mervyn2', 'sensor.mervyn2_activity', 'sensor.mervyn2_distance', 'sensor.mervyn2_floors_ascended', 'sensor.mervyn2_battery_state', 'sensor.mervyn2_battery_level', 'sensor.mervyn2_storage', 'sensor.mervyn2_floors_descended', 'sensor.mervyn2_ssid', 'sensor.mervyn2_bssid', 'sensor.mervyn2_steps', 'sensor.mervyn2_connection_type', 'sensor.mervyn2_average_active_pace', 'sensor.mervyn2_sim_1', 'sensor.mervyn2_sim_2', 'sensor.mervyn2_geocoded_location', 'binary_sensor.mervyn2_focus', 'sensor.mervyn2_last_update_trigger', 'number.media_room_audio_delay', 'sensor.philips_sml001_846e1909_basic_rssi', 'sensor.philips_sml001_846e1909_basic_lqi', 'sensor.innr_sp_224_904bd8fe_basic_rssi', 'sensor.innr_sp_224_904bd8fe_basic_lqi', 'sensor.philips_sml001_62751909_basic_rssi', 'sensor.philips_sml001_62751909_basic_lqi', 'button.philips_sml001_846e1909_identify', 'button.innr_sp_224_904bd8fe_identify', 'button.philips_sml001_62751909_identify', 'input_number.main_room', 'media_player.basement_sitting_area', 'remote.basement_sitting_area', 'media_player.den_2', 'remote.den_2', 'media_player.master_bedroom', 'remote.master_bedroom', 'media_player.kitchen', 'remote.kitchen', 'media_player.den', 'remote.den', 'media_player.morning_room', 'remote.morning_room', 'automation.evening_siri', 'automation.night_siri', 'automation.evening_siri_duplicate', 'input_number.basement', 'input_number.first_floor', 'input_number.master_suite', 'input_number.second_floor', 'automation.morning_siri', 'binary_sensor.zenwifi_xt8_fb70_wan_status', 'sensor.zenwifi_xt8_fb70_b_received', 'sensor.zenwifi_xt8_fb70_b_sent', 'sensor.zenwifi_xt8_fb70_packets_received', 'sensor.zenwifi_xt8_fb70_packets_sent', 'sensor.zenwifi_xt8_fb70_external_ip', 'sensor.zenwifi_xt8_fb70_uptime', 'sensor.zenwifi_xt8_fb70_wan_status', 'sensor.zenwifi_xt8_fb70_kib_s_received', 'sensor.zenwifi_xt8_fb70_kib_s_sent', 'sensor.zenwifi_xt8_fb70_packets_s_received', 'sensor.zenwifi_xt8_fb70_packets_s_sent', 'device_tracker.sonoszp', 'device_tracker.myq_c80', 'device_tracker.irobot_496b8517420747ceb63436d13b4bf659', 'device_tracker.hp63454c', 'device_tracker.basementingarea', 'device_tracker.mervyn_4', 'device_tracker.irobot_68941ec3d7b5439b9083ba49a4fe4f9b', 'device_tracker.android_58fb17b057141125', 'device_tracker.irobot_88d420f543ae43b8b14398c73ef77729', 'device_tracker.morning_room', 'device_tracker.kitchen', 'device_tracker.den', 'device_tracker.den_2', 'device_tracker.master_bedroom', 'device_tracker.den_3', 'device_tracker.lutron_03222eaa', 'device_tracker.lutron_0166982c', 'device_tracker.tomsmacofglory2', 'device_tracker.homeassistant', 'sensor.asuswrt_upload', 'sensor.asuswrt_load_avg_5m', 'sensor.asuswrt_load_avg_15m', 'sensor.asuswrt_upload_speed', 'sensor.asuswrt_5ghz_temperature', 'sensor.asuswrt_cpu_temperature', 'sensor.asuswrt_devices_connected', 'sensor.asuswrt_load_avg_1m', 'sensor.asuswrt_download', 'sensor.asuswrt_download_speed', 'sensor.asuswrt_2_4ghz_temperature', 'device_tracker.00_1a_13_c6_57_a5', 'device_tracker.14_7d_da_5d_ff_2f', 'device_tracker.8c_85_90_0c_37_a1', 'device_tracker.ba_fd_0a_75_ad_f6', 'device_tracker.78_9c_85_21_ca_4d', 'device_tracker.46_bb_ef_be_f6_06', 'device_tracker.00_26_74_d2_53_3a', 'device_tracker.f0_2f_74_9e_19_20', 'device_tracker.fc_34_97_af_82_10', 'device_tracker.fc_34_97_af_c9_a0', 'camera.mail_usps_camera', 'camera.mail_amazon_delivery_camera', 'sensor.mail_amazon_packages_delivered', 'sensor.mail_amazon_exception', 'sensor.mail_amazon_hub_packages', 'sensor.mail_amazon_packages', 'sensor.mail_dhl_delivered', 'sensor.mail_dhl_delivering', 'sensor.mail_dhl_packages', 'sensor.mail_fedex_delivered', 'sensor.mail_fedex_delivering', 'sensor.mail_fedex_packages', 'sensor.mail_updated', 'sensor.mail_ups_delivered', 'sensor.mail_ups_delivering', 'sensor.mail_ups_exception', 'sensor.mail_ups_packages', 'sensor.mail_usps_delivered', 'sensor.mail_usps_delivering', 'sensor.mail_usps_exception', 'sensor.mail_usps_mail', 'sensor.mail_usps_packages', 'sensor.mail_packages_delivered', 'sensor.mail_packages_in_transit', 'sensor.mail_image_system_path', 'sensor.mail_image_url', 'device_tracker.82_ae_e5_23_ce_5b', 'device_tracker.c8_6c_3d_9d_0b_a7', 'binary_sensor.cupola_hue_occupancy', 'binary_sensor.cupola_hue_on_off', 'sensor.cupola_hue_illuminance', 'sensor.cupola_hue_temperature', 'sensor.mbr_closet_hue_illuminance', 'sensor.mbr_closet_hue_power', 'sensor.mbr_closet_hue_temperature', 'binary_sensor.mbr_closet_hue_occupancy', 'binary_sensor.mbr_closet_hue_on_off', 'sensor.cupola_hue_power', 'sensor.philips_sml001_565e1909_basic_rssi', 'sensor.philips_sml001_565e1909_basic_lqi', 'button.upstairs_hallway_hue_identify', 'sensor.upstairs_hallway_hue_illuminance', 'sensor.upstairs_hallway_hue_power', 'sensor.upstairs_hallway_hue_temperature', 'binary_sensor.upstairs_hallway_hue_occupancy', 'binary_sensor.upstairs_hallway_on_off', 'device_tracker.xbox', 'sensor.philips_sml001_2d871909_basic_rssi', 'sensor.philips_sml001_2d871909_basic_lqi', 'button.living_room_hue_identify', 'sensor.living_room_hue_illuminance', 'binary_sensor.living_room_hue_occupancy', 'binary_sensor.living_room_hue_on_off', 'sensor.living_room_hue_power', 'sensor.living_room_hue_temperature', 'device_tracker.oneplus_nord_n10_5g', 'sensor.innr_sp_224_2b9963fe_basic_rssi', 'sensor.innr_sp_224_2b9963fe_basic_lqi', 'button.innr_spaceheater_identify', 'switch.innr_spaceheater_on_off', 'sensor.innr_sp_224_bf3568fe_basic_rssi', 'sensor.innr_sp_224_bf3568fe_basic_lqi', 'button.innr_relay_identify', 'switch.innr_relay_on_off', 'light.basement_sitting_area_floor_lamp', 'sensor.innr_sp_224_33b155fe_basic_rssi', 'sensor.innr_sp_224_33b155fe_basic_lqi', 'button.innr_1st_hall_identify', 'switch.innr_1st_hall_on_off', 'sensor.philips_sml001_067a1909_basic_rssi', 'sensor.philips_sml001_067a1909_basic_lqi', 'button.garage_entry_hue_identify', 'sensor.garage_entry_hue_illuminance', 'sensor.garage_entry_hue_power', 'sensor.garage_entry_hue_temperature', 'binary_sensor.garage_entry_hue_occupance', 'binary_sensor.garage_entry_hue_on_off', 'device_tracker.michaels_mbp', 'device_tracker.00_07_ec_68_00_00', 'light.den_lights', 'light.master_bedroom_lights', 'light.entry_lights', 'light.first_floor_lights_2', 'light.morning_room_lights', 'device_tracker.npifb7496', 'sensor.hp_laserjet_mfp_m28_m31_uptime', 'sensor.hp_laserjet_mfp_m28_m31', 'light.media_room_lights', 'light.basement_main_lights', 'sensor.braava_downstair_battery_level', 'vacuum.braava_downstair', 'media_player.den_3', 'remote.den_3', 'button.front_door_wake', 'sensor.shade_5_battery', 'cover.shade_5', 'device_tracker.den_3_2', 'binary_sensor.front_door_open', 'sensor.macbook_pro_2_battery_state']"
      ]
     },
     "execution_count": 14,
     "metadata": {},
     "output_type": "execute_result"
    }
   ],
   "source": [
    "list(x.entities.keys())"
   ]
  },
  {
   "cell_type": "code",
   "execution_count": 1,
   "id": "fdf8d821",
   "metadata": {},
   "outputs": [],
   "source": [
    "area = hass.helpers.area_registry.async_get_registry()"
   ]
  },
  {
   "cell_type": "code",
   "execution_count": 5,
   "id": "911b6e9b",
   "metadata": {},
   "outputs": [
    {
     "data": {
      "text/plain": [
       "['living_room', 'kitchen', 'bedroom', 'basement_sitting_area', 'front_porch', 'mudroom', 'den', 'upstairs_hallway', 'kids_hallway', 'master_bedroom', 'dining_room', 'playroom', 'cupola', 'family', 'entry', 'zen_room', 'default_room', 'front', 'morning_room', 'garage', 'deck', 'front_foyer', 'office', 'kitchen_porch', 'garage_entry', 'basement_storage_area', 'media_room', 'basement_stairs', 'wine_cellar', 'basement_game_area', 'basement_patio', 'basement_bar', 'basement_exercise_area', 'bar', 'hallway', 'hallway_remote_1', 'hallway_remote_2', 'den_3', 'rear_bedroom']"
      ]
     },
     "execution_count": 5,
     "metadata": {},
     "output_type": "execute_result"
    }
   ],
   "source": [
    "list(area.areas.keys())"
   ]
  },
  {
   "cell_type": "code",
   "execution_count": null,
   "id": "5928b44f",
   "metadata": {},
   "outputs": [],
   "source": [
    "area.areas.keys()"
   ]
  },
  {
   "cell_type": "code",
   "execution_count": 3,
   "id": "f1b6f664",
   "metadata": {},
   "outputs": [
    {
     "data": {
      "text/plain": [
       "['__class__', '__delattr__', '__dict__', '__dir__', '__doc__', '__eq__', '__format__', '__ge__', '__getattr__', '__getattribute__', '__gt__', '__hash__', '__init__', '__init_subclass__', '__le__', '__lt__', '__module__', '__ne__', '__new__', '__reduce__', '__reduce_ex__', '__repr__', '__setattr__', '__sizeof__', '__str__', '__subclasshook__', '__weakref__', '_hass', 'cloud', 'frontend', 'group', 'hassio', 'websocket_api']"
      ]
     },
     "execution_count": 3,
     "metadata": {},
     "output_type": "execute_result"
    }
   ],
   "source": [
    "dir(hass.components)"
   ]
  },
  {
   "cell_type": "code",
   "execution_count": 6,
   "id": "e6fd46df",
   "metadata": {},
   "outputs": [
    {
     "data": {
      "text/plain": [
       "['CloudNotAvailable', '__class__', '__delattr__', '__dict__', '__dir__', '__doc__', '__eq__', '__format__', '__ge__', '__getattr__', '__getattribute__', '__gt__', '__hash__', '__init__', '__init_subclass__', '__le__', '__lt__', '__module__', '__ne__', '__new__', '__reduce__', '__reduce_ex__', '__repr__', '__setattr__', '__sizeof__', '__str__', '__subclasshook__', '__weakref__', '_hass', '_module', 'async_remote_ui_url']"
      ]
     },
     "execution_count": 6,
     "metadata": {},
     "output_type": "execute_result"
    }
   ],
   "source": [
    "dir(hass.components.cloud)"
   ]
  },
  {
   "cell_type": "code",
   "execution_count": 10,
   "id": "03d7d81c",
   "metadata": {},
   "outputs": [
    {
     "data": {
      "text/plain": [
       "['__class__', '__delattr__', '__dict__', '__dir__', '__doc__', '__eq__', '__format__', '__ge__', '__getattr__', '__getattribute__', '__gt__', '__hash__', '__init__', '__init_subclass__', '__le__', '__lt__', '__module__', '__ne__', '__new__', '__reduce__', '__reduce_ex__', '__repr__', '__setattr__', '__sizeof__', '__str__', '__subclasshook__', '__weakref__', '_hass', '_module', 'async_register_command']"
      ]
     },
     "execution_count": 10,
     "metadata": {},
     "output_type": "execute_result"
    }
   ],
   "source": [
    "dir(hass.components.websocket_api)"
   ]
  },
  {
   "cell_type": "code",
   "execution_count": 12,
   "id": "df0d4f7b",
   "metadata": {},
   "outputs": [
    {
     "data": {
      "text/plain": [
       "<homeassistant.loader.ModuleWrapper object at 0x7f9540a820>"
      ]
     },
     "execution_count": 12,
     "metadata": {},
     "output_type": "execute_result"
    }
   ],
   "source": [
    "hass.components.lovelace"
   ]
  },
  {
   "cell_type": "code",
   "execution_count": 23,
   "id": "0765026f",
   "metadata": {},
   "outputs": [
    {
     "data": {
      "text/plain": [
       "['__abstractmethods__', '__class__', '__delattr__', '__dict__', '__dir__', '__doc__', '__eq__', '__format__', '__ge__', '__getattribute__', '__gt__', '__hash__', '__init__', '__init_subclass__', '__le__', '__lt__', '__module__', '__ne__', '__new__', '__reduce__', '__reduce_ex__', '__repr__', '__setattr__', '__sizeof__', '__slots__', '__str__', '__subclasshook__', '__weakref__', '_abc_impl', '_config_updated', '_data', '_load', '_store', 'async_delete', 'async_get_info', 'async_load', 'async_save', 'config', 'hass', 'mode', 'url_path']"
      ]
     },
     "execution_count": 23,
     "metadata": {},
     "output_type": "execute_result"
    }
   ],
   "source": [
    "dir(hass.data['lovelace']['dashboards']['lovelace-ottomate'])"
   ]
  },
  {
   "cell_type": "code",
   "execution_count": 2,
   "id": "1336d2dd",
   "metadata": {},
   "outputs": [
    {
     "data": {
      "text/plain": [
       "'3.0.7'"
      ]
     },
     "execution_count": 2,
     "metadata": {},
     "output_type": "execute_result"
    }
   ],
   "source": [
    "import pkg_resources\n",
    "pkg_resources.get_distribution(\"pyparsing\").version"
   ]
  },
  {
   "cell_type": "code",
   "execution_count": 6,
   "id": "aba82696",
   "metadata": {},
   "outputs": [
    {
     "ename": "AttributeError",
     "evalue": "module 'pyparsing' has no attribute 'common'",
     "output_type": "error",
     "traceback": [
      "Exception in <jupyter_0> line 1:",
      "    from pyparsing import common",
      "    ^",
      "AttributeError: module 'pyparsing' has no attribute 'common'"
     ]
    }
   ],
   "source": [
    "from pyparsing import common"
   ]
  },
  {
   "cell_type": "code",
   "execution_count": 1,
   "id": "655be6bd",
   "metadata": {},
   "outputs": [],
   "source": [
    "import pyparsing as pp"
   ]
  },
  {
   "cell_type": "code",
   "execution_count": 9,
   "id": "9c99663e",
   "metadata": {},
   "outputs": [
    {
     "data": {
      "text/plain": [
       "<function delimitedList at 0x7f7befd3a0>"
      ]
     },
     "execution_count": 9,
     "metadata": {},
     "output_type": "execute_result"
    }
   ],
   "source": [
    "pp.delimitedList"
   ]
  },
  {
   "cell_type": "code",
   "execution_count": 5,
   "id": "4348b2a7",
   "metadata": {},
   "outputs": [
    {
     "data": {
      "text/plain": [
       "['And', 'CaselessKeyword', 'CaselessLiteral', 'Char', 'CharsNotIn', 'CloseMatch', 'Combine', 'Dict', 'Each', 'Empty', 'FollowedBy', 'Forward', 'GoToColumn', 'Group', 'Iterable', 'Keyword', 'LineEnd', 'LineStart', 'Literal', 'Mapping', 'MatchFirst', 'MutableMapping', 'NoMatch', 'NotAny', 'OneOrMore', 'OnlyOnce', 'Optional', 'Or', 'PY_3', 'ParseBaseException', 'ParseElementEnhance', 'ParseException', 'ParseExpression', 'ParseFatalException', 'ParseResults', 'ParseSyntaxException', 'ParserElement', 'PrecededBy', 'QuotedString', 'RLock', 'RecursiveGrammarException', 'Regex', 'SimpleNamespace', 'SkipTo', 'StringEnd', 'StringStart', 'Suppress', 'Token', 'TokenConverter', 'White', 'Word', 'WordEnd', 'WordStart', 'ZeroOrMore', '_L', '_MAX_INT', '_MultipleMatch', '_NullToken', '_OrderedDict', '_ParseResultsWithOffset', '_PendingSkip', '_PositionToken', '_SingleCharLiteral', '_WordRegex', '__all__', '__author__', '__builtins__', '__cached__', '__compat__', '__diag__', '__doc__', '__file__', '__loader__', '__name__', '__package__', '__spec__', '__versionTime__', '__version__', '_bslash', '_charRange', '_commasepitem', '_defaultExceptionDebugAction', '_defaultStartDebugAction', '_defaultSuccessDebugAction', '_enable_all_warnings', '_escapeRegexRangeChars', '_escapedHexChar', '_escapedOctChar', '_escapedPunc', '_flatten', '_generatorType', '_htmlEntityMap', '_lazyclassproperty', '_makeTags', '_reBracketExpr', '_singleChar', '_trim_arity', '_ustr', '_xml_escape', 'alphanums', 'alphas', 'alphas8bit', 'anyCloseTag', 'anyOpenTag', 'basestring', 'cStyleComment', 'col', 'collections', 'commaSeparatedList', 'commonHTMLEntity', 'conditionAsParseAction', 'contextmanager', 'copy', 'countedArray', 'cppStyleComment', 'datetime', 'dblQuotedString', 'dblSlashComment', 'delimitedList', 'dictOf', 'downcaseTokens', 'empty', 'filterfalse', 'hexnums', 'htmlComment', 'indentedBlock', 'infixNotation', 'itemgetter', 'itertools', 'javaStyleComment', 'line', 'lineEnd', 'lineStart', 'lineno', 'locatedExpr', 'makeHTMLTags', 'makeXMLTags', 'matchOnlyAtCol', 'matchPreviousExpr', 'matchPreviousLiteral', 'nestedExpr', 'nullDebugAction', 'nums', 'oneOf', 'opAssoc', 'operatorPrecedence', 'originalTextFor', 'pprint', 'printables', 'punc8bit', 'pyparsing_common', 'pyparsing_test', 'pyparsing_unicode', 'pythonStyleComment', 'quotedString', 're', 'removeQuotes', 'replaceHTMLEntity', 'replaceWith', 'restOfLine', 'sglQuotedString', 'singleArgBuiltins', 'srange', 'sre_constants', 'string', 'stringEnd', 'stringStart', 'sys', 'system_version', 'tokenMap', 'traceParseAction', 'traceback', 'types', 'ungroup', 'unichr', 'unicode', 'unicodeString', 'unicode_set', 'upcaseTokens', 'warnings', 'withAttribute', 'withClass', 'wkref', 'wraps']"
      ]
     },
     "execution_count": 5,
     "metadata": {},
     "output_type": "execute_result"
    }
   ],
   "source": [
    "dir(pp)"
   ]
  },
  {
   "cell_type": "code",
   "execution_count": 6,
   "id": "240d25d2",
   "metadata": {},
   "outputs": [],
   "source": [
    "from pyparsing import pyparsing_common"
   ]
  },
  {
   "cell_type": "code",
   "execution_count": 7,
   "id": "248cc12b",
   "metadata": {},
   "outputs": [],
   "source": [
    "from pyparsing import pyparsing_common as common"
   ]
  },
  {
   "cell_type": "code",
   "execution_count": null,
   "id": "e167603f",
   "metadata": {},
   "outputs": [],
   "source": []
  }
 ],
 "metadata": {
  "kernelspec": {
   "display_name": "hass pyscript",
   "language": "python",
   "name": "pyscript"
  },
  "language_info": {
   "codemirror_mode": "",
   "file_extension": ".py",
   "mimetype": "",
   "name": "python",
   "nbconvert_exporter": "",
   "version": "1.0"
  }
 },
 "nbformat": 4,
 "nbformat_minor": 5
}
